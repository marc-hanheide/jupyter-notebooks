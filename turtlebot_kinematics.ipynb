{
 "cells": [
  {
   "cell_type": "code",
   "execution_count": 7,
   "metadata": {},
   "outputs": [
    {
     "name": "stdout",
     "output_type": "stream",
     "text": [
      "LD_LIBRARY_PATH=/opt/ros/kinetic/lib\n",
      "PATH=/opt/ros/kinetic/bin:/opt/conda/bin:/usr/local/sbin:/usr/local/bin:/usr/sbin:/usr/bin:/sbin:/bin\n",
      "PYTHONPATH=/opt/ros/kinetic/lib/python2.7/dist-packages\n",
      "PKG_CONFIG_PATH=/opt/ros/kinetic/lib/pkgconfig\n",
      "CMAKE_PREFIX_PATH=/opt/ros/kinetic\n"
     ]
    }
   ],
   "source": [
    "# You can use python inline. E.g. you can define functions to be used later:\n",
    "\n",
    "# import environment and expose in jupyter env\n",
    "# this only works when shellvars is installed as it is in L-CAS Juptyer images\n",
    "# https://github.com/LCAS/jupyterhub-deploy-docker/blob/master/singleuser/Dockerfile#L100\n",
    "\n",
    "import shellvars\n",
    "from os import environ\n",
    "\n",
    "def loadenv(filename='/opt/ros/kinetic/setup.bash'):\n",
    "    vs = shellvars.get_vars(filename)\n",
    "    for v in vs:\n",
    "        print('%s=%s' % (v.decode(\"utf-8\"), str(vs[v].decode(\"utf-8\"))))\n",
    "        environ[v.decode(\"utf-8\")] = str(vs[v].decode(\"utf-8\"))\n",
    "\n",
    "# you can call these functions easily\n",
    "# (This example is a good way to load environment variables from a config file)\n",
    "\n",
    "loadenv('/opt/ros/kinetic/setup.bash')\n",
    "# install marc-hanheide's own python3 version of rosbag_panda: https://github.com/marc-hanheide/RosbagPandas\n",
    "#   - clone it\n",
    "#   - run pip install --user -U . in it \n",
    "# tutorial at https://nimbus.unl.edu/2014/11/using-rosbag_pandas-to-analyze-rosbag-files/\n",
    "#sudo apt-get install ros-kinetic-rosbag python-roslz4\n",
    "def expand_sys_path():\n",
    "    import sys\n",
    "    from os import environ\n",
    "\n",
    "    extra_paths = environ['PYTHONPATH'].split(':')\n",
    "    sys.path.extend(extra_paths)\n",
    "\n",
    "    new_path = []\n",
    "    for p in sys.path:\n",
    "        if not p in new_path:\n",
    "            new_path.append(p)\n",
    "\n",
    "    sys.path = new_path\n",
    "\n",
    "\n",
    "expand_sys_path()"
   ]
  },
  {
   "cell_type": "code",
   "execution_count": 2,
   "metadata": {},
   "outputs": [],
   "source": [
    "wheel_radius = .1\n",
    "robot_radius = .31"
   ]
  },
  {
   "cell_type": "code",
   "execution_count": 3,
   "metadata": {},
   "outputs": [],
   "source": [
    "# computing the forward kinematics for a differential drive\n",
    "def forward_kinematics(w_l, w_r):\n",
    "    c_l = wheel_radius * w_l\n",
    "    c_r = wheel_radius * w_r\n",
    "    v = (c_l + c_r) / 2\n",
    "    a = (c_r - c_l) / (2 * robot_radius)\n",
    "    return (v, a)\n",
    "\n"
   ]
  },
  {
   "cell_type": "code",
   "execution_count": 4,
   "metadata": {},
   "outputs": [],
   "source": [
    "# computing the inverse kinematics for a differential drive\n",
    "def inverse_kinematics(v, a):\n",
    "    c_l = v - (robot_radius * a)\n",
    "    c_r = v + (robot_radius * a)\n",
    "    w_l = c_l / wheel_radius\n",
    "    w_r = c_r / wheel_radius\n",
    "    return (w_l, w_r)"
   ]
  },
  {
   "cell_type": "code",
   "execution_count": 5,
   "metadata": {},
   "outputs": [],
   "source": [
    "# inverse kinematics from a Twist message (This is what a ROS robot driver has to do)\n",
    "def inverse_kinematics_from_twist(t):\n",
    "    return inverse_kinematics(t.linear.x, t.angular.z)"
   ]
  },
  {
   "cell_type": "code",
   "execution_count": 10,
   "metadata": {},
   "outputs": [
    {
     "name": "stdout",
     "output_type": "stream",
     "text": [
      "w_l = 6.900000,\tw_r = 13.100000\n",
      "v = 1.000000,\ta = 1.000000\n",
      "w_l2 = 0.520000,\tw_r2 = 5.480000\n",
      "linear: \n",
      "  x: 0.3\n",
      "  y: 0.0\n",
      "  z: 0.0\n",
      "angular: \n",
      "  x: 0.0\n",
      "  y: 0.0\n",
      "  z: 0.8\n"
     ]
    }
   ],
   "source": [
    "# compute wheel velocities from given linear and angular velocity of the robot\n",
    "(w_l, w_r) = inverse_kinematics(1.0, 1)\n",
    "print(\"w_l = %f,\\tw_r = %f\" % (w_l, w_r))\n",
    "\n",
    "# compute linear and angular velocities from wheel velocities\n",
    "(v, a) = forward_kinematics(w_l, w_r)\n",
    "print (\"v = %f,\\ta = %f\" % (v, a))\n",
    "\n",
    "# also works with ROS\n",
    "from geometry_msgs.msg import Twist\n",
    "t = Twist()\n",
    "\n",
    "t.linear.x = 0.3\n",
    "t.angular.z = 0.8\n",
    "\n",
    "(w_l2, w_r2) = inverse_kinematics_from_twist(t)\n",
    "print(\"w_l2 = %f,\\tw_r2 = %f\" % (w_l2, w_r2))\n",
    "print(t)"
   ]
  },
  {
   "cell_type": "code",
   "execution_count": 12,
   "metadata": {},
   "outputs": [],
   "source": [
    "import rospy"
   ]
  },
  {
   "cell_type": "code",
   "execution_count": null,
   "metadata": {},
   "outputs": [],
   "source": []
  }
 ],
 "metadata": {
  "kernelspec": {
   "display_name": "Python 3",
   "language": "python",
   "name": "python3"
  },
  "language_info": {
   "codemirror_mode": {
    "name": "ipython",
    "version": 3
   },
   "file_extension": ".py",
   "mimetype": "text/x-python",
   "name": "python",
   "nbconvert_exporter": "python",
   "pygments_lexer": "ipython3",
   "version": "3.6.2"
  }
 },
 "nbformat": 4,
 "nbformat_minor": 2
}
