{
 "cells": [
  {
   "cell_type": "code",
   "execution_count": 11,
   "metadata": {},
   "outputs": [],
   "source": [
    "import numpy as np\n",
    "from math import pi, sin, cos, acos\n",
    "\n",
    "# helper functions\n",
    "\n",
    "def normalized(a):\n",
    "    return a / np.linalg.norm(a)\n",
    "\n",
    "def r2d(r):\n",
    "    return r*180/pi\n",
    "\n",
    "def d2r(d):\n",
    "    return d*pi/180\n"
   ]
  },
  {
   "cell_type": "code",
   "execution_count": 19,
   "metadata": {},
   "outputs": [
    {
     "name": "stdout",
     "output_type": "stream",
     "text": [
      "normalised vector poiting from camera to marker: [0.2564347  0.         0.96656156]\n",
      "is angle acute? False\n",
      "correct quaternion: %s [0.         0.70770757 0.         0.70650549]\n",
      "correct orientation: %s [ 0.999999 -0.       -0.0017  ]\n"
     ]
    }
   ],
   "source": [
    "\"\"\"\n",
    "computes the quaternion between two vectors.\n",
    "\"\"\"\n",
    "def get_quat_between(v1, v2):\n",
    "    # inspired by https://stackoverflow.com/a/11741520\n",
    "    # but the original code also looks correct\n",
    "    v1 = normalized(v1)\n",
    "    v2 = normalized(v2)\n",
    "    d = v1 + v2\n",
    "    # special case of pointing opposite ways\n",
    "    if np.linalg.norm(d) < 0.000001:\n",
    "        return np.array([0,1,0,0])\n",
    "\n",
    "    half = normalized(d)    \n",
    "    xyz = np.cross(v1, half)\n",
    "    w = np.dot(v1,half)\n",
    "    return np.array([xyz[0],xyz[1],xyz[2],w])\n",
    "\n",
    "# the \"up vector\" (pointing out of the camera, this is the reference the orientation is based on)\n",
    "v1 = np.array([0.0, 0.0, 1.0])\n",
    "\n",
    "# the \"roll, pitch, yaw\" vector (in rotation), basically this is the normal of the marker in image coords\n",
    "# as currently reported in \"rotation\" field\n",
    "v2 = np.array([-0.999999, 0, 0.0017])\n",
    "\n",
    "# the position of the marker (normalised to unit length)\n",
    "pos = normalized(np.array([1.3, 0, 4.9]))\n",
    "print('normalised vector poiting from camera to marker: %s' % pos)\n",
    "\n",
    "# no the assumption now is that the angle between the marker's position vector (pos) and the\n",
    "# normal of the marker (v2, here) always has to be an acute angle (<90), \n",
    "# if it is not, the normal is pointing away from us and we see the \"wrong side\"\n",
    "# consequently, if pos * v2 > 0 we have an acute angle and the quaternion is fine\n",
    "# otherwise in pos * v2 < 0, it needs to be flipped, easiest is to just flip v2 and then compute the quaternion\n",
    "\n",
    "is_accute = (np.dot(pos, v2) > 0)\n",
    "print('is angle acute? %s' % is_accute)\n",
    "\n",
    "# no we know if the angle is acute, we can proceed (probably even with the same quaternion calculation as before)\n",
    "\n",
    "if not is_accute:\n",
    "    # flip vector if angle is not acute\n",
    "    v2 = -v2\n",
    "# get the quaternion between the up_vector and the reported (maybe corrected) normal\n",
    "q = get_quat_between(v1,v2)\n",
    "\n",
    "print('correct quaternion: %s', q)\n",
    "print('correct orientation: %s', v2)\n",
    "\n",
    "\n"
   ]
  },
  {
   "cell_type": "code",
   "execution_count": null,
   "metadata": {},
   "outputs": [],
   "source": []
  }
 ],
 "metadata": {
  "kernelspec": {
   "display_name": "Python 3",
   "language": "python",
   "name": "python3"
  },
  "language_info": {
   "codemirror_mode": {
    "name": "ipython",
    "version": 3
   },
   "file_extension": ".py",
   "mimetype": "text/x-python",
   "name": "python",
   "nbconvert_exporter": "python",
   "pygments_lexer": "ipython3",
   "version": "3.6.2"
  }
 },
 "nbformat": 4,
 "nbformat_minor": 2
}
