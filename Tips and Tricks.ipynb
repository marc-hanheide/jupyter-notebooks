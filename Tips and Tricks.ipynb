{
 "cells": [
  {
   "cell_type": "markdown",
   "metadata": {},
   "source": [
    "# source bash env files"
   ]
  },
  {
   "cell_type": "code",
   "execution_count": 1,
   "metadata": {},
   "outputs": [],
   "source": [
    "# import environment and expose in jupyter env\n",
    "# this only works when shellvars is installed as it is in L-CAS Juptyer images\n",
    "# https://github.com/LCAS/jupyterhub-deploy-docker/blob/master/singleuser/Dockerfile#L100\n",
    "\n",
    "import shellvars\n",
    "from os import environ\n",
    "\n",
    "def loadenv(filename='/opt/ros/kinetic/setup.bash'):\n",
    "    vs = shellvars.get_vars(filename)\n",
    "    for v in vs:\n",
    "        print('%s=%s' % (v.decode(\"utf-8\"), str(vs[v].decode(\"utf-8\"))))\n",
    "        environ[v.decode(\"utf-8\")] = str(vs[v].decode(\"utf-8\"))\n"
   ]
  },
  {
   "cell_type": "code",
   "execution_count": 10,
   "metadata": {},
   "outputs": [
    {
     "name": "stdout",
     "output_type": "stream",
     "text": [
      "LD_LIBRARY_PATH=/opt/ros/kinetic/lib\n",
      "PATH=/opt/ros/kinetic/bin:/home/jovyan/bin:/home/jovyan/.local/bin:/opt/conda/bin:/usr/local/sbin:/usr/local/bin:/usr/sbin:/usr/bin:/sbin:/bin\n",
      "PYTHONPATH=/opt/ros/kinetic/lib/python2.7/dist-packages\n",
      "PKG_CONFIG_PATH=/opt/ros/kinetic/lib/pkgconfig\n",
      "CMAKE_PREFIX_PATH=/opt/ros/kinetic\n"
     ]
    }
   ],
   "source": [
    "#loadenv('.profile')\n",
    "loadenv('/opt/ros/kinetic/setup.bash')"
   ]
  },
  {
   "cell_type": "markdown",
   "metadata": {},
   "source": [
    "# Read password interactively"
   ]
  },
  {
   "cell_type": "code",
   "execution_count": 20,
   "metadata": {},
   "outputs": [
    {
     "name": "stdout",
     "output_type": "stream",
     "text": [
      "you entered: fsgsdfgsdrg\n"
     ]
    }
   ],
   "source": [
    "from getpass import getpass; password=getpass('your secret')\n",
    "# can now be used in shell commands (obviously, normally not printed):\n",
    "!echo \"you entered: $password\""
   ]
  },
  {
   "cell_type": "markdown",
   "metadata": {},
   "source": [
    "# use the \"old\" notebooks (for pixiedust)\n",
    "\n",
    "https://lcas.lincoln.ac.uk/user/marc-hanheide/tree/jupyter-notebooks\n",
    "\n",
    "Also, try pixiedust here: https://lcas.lincoln.ac.uk/user/marc-hanheide/notebooks/jupyter-notebooks/pixiedust%20and%20MongoDb%20tests.ipynb#"
   ]
  }
 ],
 "metadata": {
  "kernelspec": {
   "display_name": "Python 3",
   "language": "python",
   "name": "python3"
  },
  "language_info": {
   "codemirror_mode": {
    "name": "ipython",
    "version": 3
   },
   "file_extension": ".py",
   "mimetype": "text/x-python",
   "name": "python",
   "nbconvert_exporter": "python",
   "pygments_lexer": "ipython3",
   "version": "3.6.2"
  }
 },
 "nbformat": 4,
 "nbformat_minor": 2
}
