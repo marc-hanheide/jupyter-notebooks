{
  "nbformat": 4,
  "nbformat_minor": 0,
  "metadata": {
    "kernelspec": {
      "display_name": "Python 3",
      "language": "python",
      "name": "python3"
    },
    "language_info": {
      "codemirror_mode": {
        "name": "ipython",
        "version": 3
      },
      "file_extension": ".py",
      "mimetype": "text/x-python",
      "name": "python",
      "nbconvert_exporter": "python",
      "pygments_lexer": "ipython3",
      "version": "3.6.2"
    },
    "colab": {
      "name": "quaternion.ipynb",
      "provenance": [],
      "include_colab_link": true
    }
  },
  "cells": [
    {
      "cell_type": "markdown",
      "metadata": {
        "id": "view-in-github",
        "colab_type": "text"
      },
      "source": [
        "<a href=\"https://colab.research.google.com/github/marc-hanheide/jupyter-notebooks/blob/master/quaternion.ipynb\" target=\"_parent\"><img src=\"https://colab.research.google.com/assets/colab-badge.svg\" alt=\"Open In Colab\"/></a>"
      ]
    },
    {
      "cell_type": "code",
      "metadata": {
        "id": "fgD0hZX8gMDX"
      },
      "source": [
        "from math import sin, cos, atan2, pi\n",
        "from scipy.spatial.transform import Rotation as R"
      ],
      "execution_count": 6,
      "outputs": []
    },
    {
      "cell_type": "code",
      "metadata": {
        "id": "d10TAT5KgMDg"
      },
      "source": [
        "# some angle:\n",
        "\n",
        "angle = 30 * pi / 180"
      ],
      "execution_count": 2,
      "outputs": []
    },
    {
      "cell_type": "code",
      "metadata": {
        "id": "qhjdWpaRgMDl"
      },
      "source": [
        "# definition of a quaternion rotation around the z axis alone\n",
        "q = {\n",
        "    'x': 0.0,\n",
        "    'y': 0.0,\n",
        "    'z': sin(angle/2),\n",
        "    'w': cos(angle/2)\n",
        "}"
      ],
      "execution_count": 3,
      "outputs": []
    },
    {
      "cell_type": "code",
      "metadata": {
        "id": "3FlTEmhwgMDq",
        "outputId": "9d2ac44b-5628-4e12-af13-36496c0534cb",
        "colab": {
          "base_uri": "https://localhost:8080/",
          "height": 34
        }
      },
      "source": [
        "# show it\n",
        "print('quaternion is %s' % q)"
      ],
      "execution_count": 4,
      "outputs": [
        {
          "output_type": "stream",
          "text": [
            "quaternion is {'x': 0.0, 'y': 0.0, 'z': 0.25881904510252074, 'w': 0.9659258262890683}\n"
          ],
          "name": "stdout"
        }
      ]
    },
    {
      "cell_type": "code",
      "metadata": {
        "id": "Af9Y8otagMDy",
        "outputId": "8671152c-2995-4b35-ae6e-1b310b4a8cbc",
        "colab": {
          "base_uri": "https://localhost:8080/",
          "height": 34
        }
      },
      "source": [
        "recomputeangle = atan2(q['z'], q['w'])*2\n",
        "print('yaw angle extracted from quaternion is %s' % (recomputeangle * 180 / pi))"
      ],
      "execution_count": 5,
      "outputs": [
        {
          "output_type": "stream",
          "text": [
            "yaw angle extracted from quaternion is 29.999999999999996\n"
          ],
          "name": "stdout"
        }
      ]
    },
    {
      "cell_type": "code",
      "metadata": {
        "id": "SvD82nu7gMD4"
      },
      "source": [
        ""
      ],
      "execution_count": null,
      "outputs": []
    }
  ]
}