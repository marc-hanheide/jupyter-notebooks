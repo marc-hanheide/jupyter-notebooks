{
 "cells": [
  {
   "cell_type": "markdown",
   "metadata": {},
   "source": [
    "# Guesstimate Inertias for Gazebo\n",
    "\n",
    "This is a simple estimation of Inertia, just assuming a certain material density and modelling the inertia for a solid cube of that material, bsaed on its weight. This is far from accurate, but provides good enough estimates"
   ]
  },
  {
   "cell_type": "code",
   "execution_count": 30,
   "metadata": {},
   "outputs": [
    {
     "name": "stdout",
     "output_type": "stream",
     "text": [
      "0.037190719449009424\n"
     ]
    }
   ],
   "source": [
    "\n",
    "# density in g/cm^3 (~3 is good for mixed metal (aluminium) structures, hence a good start)\n",
    "# mass is in kg\n",
    "def estimate_inertia(mass, density=3):\n",
    "    # compute volume \n",
    "    volume = mass / (density * 1000)\n",
    "    # if it's a cube, the compute the side length\n",
    "    side = volume ** (1/3)\n",
    "    # formula inspired by https://github.com/tu-darmstadt-ros-pkg/hector_models/blob/indigo-devel/hector_xacro_tools/urdf/inertia_tensors.urdf.xacro#L8\n",
    "    inertia = (2/12) * mass  * (side**2)\n",
    "    return inertia\n",
    "\n",
    "def gazebo_inerta(mass, density=3):\n",
    "    inertia = estimate_inertia(mass, density)\n",
    "    str = (\n",
    "        '<inertia'\n",
    "        'ixx=\"%f\" ixy=\"0.0\" ixz=\"0.0\"'\n",
    "        'iyy=\"%f\" iyz=\"0.0\"'\n",
    "        'izz=\"%f\" />'\n",
    "        )\n",
    "    print(str % (inertia, inertia, intertia))\n",
    "\n",
    "print(estimate_inertia(10, density=3))\n"
   ]
  },
  {
   "cell_type": "code",
   "execution_count": 9,
   "metadata": {},
   "outputs": [
    {
     "data": {
      "text/plain": [
       "3.0"
      ]
     },
     "execution_count": 9,
     "metadata": {},
     "output_type": "execute_result"
    }
   ],
   "source": [
    "side*side*side"
   ]
  },
  {
   "cell_type": "code",
   "execution_count": null,
   "metadata": {},
   "outputs": [],
   "source": []
  }
 ],
 "metadata": {
  "kernelspec": {
   "display_name": "Python 3",
   "language": "python",
   "name": "python3"
  },
  "language_info": {
   "codemirror_mode": {
    "name": "ipython",
    "version": 3
   },
   "file_extension": ".py",
   "mimetype": "text/x-python",
   "name": "python",
   "nbconvert_exporter": "python",
   "pygments_lexer": "ipython3",
   "version": "3.6.2"
  }
 },
 "nbformat": 4,
 "nbformat_minor": 2
}
